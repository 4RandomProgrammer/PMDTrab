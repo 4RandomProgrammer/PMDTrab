{
 "cells": [
  {
   "cell_type": "markdown",
   "metadata": {},
   "source": [
    "# Counter Strike Global Offensive Match Result Prediction\n",
    "- **Leonardo Valerio Morales 771030**\n",
    "- **Luis Felipe Dobner Henriques 771036**\n",
    "\n",
    "This notebook executes data pre-processing and predictive analysis of Counter Strike Global Offensive Matches."
   ]
  },
  {
   "cell_type": "markdown",
   "metadata": {},
   "source": [
    "# Enviroment Variables\n",
    "This step loads Everything needed for Neo4j and Apache Kudu to Work"
   ]
  },
  {
   "cell_type": "code",
   "execution_count": 1,
   "metadata": {},
   "outputs": [],
   "source": [
    "#Enviroment Variables\n",
    "import random\n",
    "import os\n",
    "from os import listdir\n",
    "\n",
    "import pyspark\n",
    "from pyspark.context import SparkContext\n",
    "from pyspark.sql import SparkSession, SQLContext\n",
    "from pyspark.sql.types import *\n",
    "from pyspark.sql.window import Window\n",
    "import pyspark.sql.functions as F\n",
    "\n",
    "from ipywidgets import interact, widgets\n",
    "\n",
    "KUDU_MASTER = 'kudu-master-1:7051'"
   ]
  },
  {
   "cell_type": "code",
   "execution_count": 2,
   "metadata": {},
   "outputs": [],
   "source": [
    "#Enviroment Variables\n",
    "os.environ['PYSPARK_SUBMIT_ARGS'] = f'--packages org.apache.kudu:kudu-spark3_2.12:1.13.0.7.1.5.17-1,org.neo4j:neo4j-connector-apache-spark_2.12:5.0.1_for_spark_3 --repositories https://repository.cloudera.com/artifactory/cloudera-repos/ pyspark-shell'"
   ]
  },
  {
   "cell_type": "code",
   "execution_count": 3,
   "metadata": {},
   "outputs": [],
   "source": [
    "#Enviroment Variables\n",
    "spark = SparkSession.builder.config('spark.packages', 'org.apache.kudu:kudu-spark3_2.12:1.13.0.7.1.5.17-1,org.neo4j:neo4j-connector-apache-spark_2.12:5.0.1_for_spark_3').getOrCreate()\n",
    "sc = SparkContext.getOrCreate()\n",
    "sc.setLogLevel('OFF')"
   ]
  },
  {
   "cell_type": "markdown",
   "metadata": {},
   "source": [
    "# Data Loading\n",
    "This step will create the tables and schemas in both databases and load the concerning data from the dataset into Neo4j and Apache Kudu."
   ]
  },
  {
   "cell_type": "code",
   "execution_count": 4,
   "metadata": {},
   "outputs": [
    {
     "name": "stdout",
     "output_type": "stream",
     "text": [
      "Archive:  ./archive.zip\n"
     ]
    }
   ],
   "source": [
    "!unzip -n {'./archive.zip'}"
   ]
  },
  {
   "cell_type": "code",
   "execution_count": 5,
   "metadata": {},
   "outputs": [
    {
     "data": {
      "text/plain": [
       "DataFrame[date: string, team_1: string, team_2: string, _map: string, result_1: string, result_2: string, map_winner: string, starting_ct: string, ct_1: string, t_2: string, t_1: string, ct_2: string, event_id: string, match_id: string, rank_1: string, rank_2: string, map_wins_1: string, map_wins_2: string, match_winner: string]"
      ]
     },
     "metadata": {},
     "output_type": "display_data"
    },
    {
     "name": "stdout",
     "output_type": "stream",
     "text": [
      "+----------+--------------------+---------------+--------+--------+--------+----------+-----------+----+---+---+----+--------+--------+------+------+----------+----------+------------+\n",
      "|date      |team_1              |team_2         |_map    |result_1|result_2|map_winner|starting_ct|ct_1|t_2|t_1|ct_2|event_id|match_id|rank_1|rank_2|map_wins_1|map_wins_2|match_winner|\n",
      "+----------+--------------------+---------------+--------+--------+--------+----------+-----------+----+---+---+----+--------+--------+------+------+----------+----------+------------+\n",
      "|2020-03-18|Recon 5             |TeamOne        |Dust2   |0       |16      |2         |2          |0   |1  |0  |15  |5151    |2340454 |62    |63    |0         |2         |2           |\n",
      "|2020-03-18|Recon 5             |TeamOne        |Inferno |13      |16      |2         |2          |8   |6  |5  |10  |5151    |2340454 |62    |63    |0         |2         |2           |\n",
      "|2020-03-18|New England Whalers |Station7       |Inferno |12      |16      |2         |1          |9   |6  |3  |10  |5243    |2340461 |140   |118   |12        |16        |2           |\n",
      "|2020-03-18|Rugratz             |Bad News Bears |Inferno |7       |16      |2         |2          |0   |8  |7  |8   |5151    |2340453 |61    |38    |0         |2         |2           |\n",
      "|2020-03-18|Rugratz             |Bad News Bears |Vertigo |8       |16      |2         |2          |4   |5  |4  |11  |5151    |2340453 |61    |38    |0         |2         |2           |\n",
      "|2020-03-17|Singularity         |Endpoint       |Overpass|13      |16      |2         |2          |8   |6  |5  |10  |5247    |2340456 |71    |41    |0         |2         |2           |\n",
      "|2020-03-17|Singularity         |Endpoint       |Vertigo |11      |16      |2         |1          |6   |9  |5  |7   |5247    |2340456 |71    |41    |0         |2         |2           |\n",
      "|2020-03-17|Espada              |Tricked        |Dust2   |16      |10      |1         |2          |3   |8  |13 |2   |5247    |2340455 |56    |77    |2         |0         |1           |\n",
      "|2020-03-17|Espada              |Tricked        |Nuke    |16      |10      |1         |1          |7   |8  |9  |2   |5247    |2340455 |56    |77    |2         |0         |1           |\n",
      "|2020-03-17|fnatic              |BIG            |Mirage  |12      |16      |2         |1          |9   |6  |3  |10  |5226    |2340397 |5     |18    |1         |2         |2           |\n",
      "|2020-03-17|Sprout              |Movistar Riders|Mirage  |16      |10      |1         |2          |9   |2  |7  |8   |5150    |2340447 |33    |37    |2         |0         |1           |\n",
      "|2020-03-17|Rooster             |Skyfire        |Inferno |16      |13      |1         |1          |7   |8  |9  |5   |5236    |2340444 |103   |126   |2         |0         |1           |\n",
      "|2020-03-17|Rooster             |Skyfire        |Overpass|16      |1       |1         |2          |2   |0  |14 |1   |5236    |2340444 |103   |126   |2         |0         |1           |\n",
      "|2020-03-17|Paradox             |Airborne       |Nuke    |19      |16      |1         |1          |8   |7  |7  |8   |5236    |2340443 |112   |187   |1         |2         |2           |\n",
      "|2020-03-17|Paradox             |Airborne       |Mirage  |9       |16      |2         |2          |6   |4  |3  |12  |5236    |2340443 |112   |187   |1         |2         |2           |\n",
      "|2020-03-17|Paradox             |Airborne       |Inferno |10      |16      |2         |1          |5   |10 |5  |6   |5236    |2340443 |112   |187   |1         |2         |2           |\n",
      "|2020-03-17|Alcoholics Anonymous|Station7       |Mirage  |5       |16      |2         |2          |2   |4  |3  |12  |5243    |2340131 |117   |118   |5         |16        |2           |\n",
      "|2020-03-17|New England Whalers |District 7     |Nuke    |16      |7       |1         |2          |7   |1  |9  |6   |5243    |2340130 |140   |91    |16        |7         |1           |\n",
      "|2020-03-17|AGO                 |HellRaisers    |Train   |16      |5       |1         |2          |3   |3  |13 |2   |5150    |2340449 |45    |49    |2         |0         |1           |\n",
      "|2020-03-17|AGO                 |HellRaisers    |Inferno |16      |5       |1         |1          |11  |4  |5  |1   |5150    |2340449 |45    |49    |2         |0         |1           |\n",
      "+----------+--------------------+---------------+--------+--------+--------+----------+-----------+----+---+---+----+--------+--------+------+------+----------+----------+------------+\n",
      "only showing top 20 rows\n",
      "\n"
     ]
    }
   ],
   "source": [
    "# Data Extraction\n",
    "df1 = spark.read.format(\"csv\").option(\"header\", \"true\").load(\"./results.csv\")\n",
    "display(df1)\n",
    "df1.show(truncate=False)"
   ]
  },
  {
   "cell_type": "code",
   "execution_count": 6,
   "metadata": {},
   "outputs": [
    {
     "data": {
      "text/plain": [
       "DataFrame[date: string, match_id: string, event_id: string, team_1: string, team_2: string, best_of: string, _map: string, t1_start: string, t2_start: string, 1_t1: string, 2_t1: string, 3_t1: string, 4_t1: string, 5_t1: string, 6_t1: string, 7_t1: string, 8_t1: string, 9_t1: string, 10_t1: string, 11_t1: string, 12_t1: string, 13_t1: string, 14_t1: string, 15_t1: string, 16_t1: string, 17_t1: string, 18_t1: string, 19_t1: string, 20_t1: string, 21_t1: string, 22_t1: string, 23_t1: string, 24_t1: string, 25_t1: string, 26_t1: string, 27_t1: string, 28_t1: string, 29_t1: string, 30_t1: string, 1_t2: string, 2_t2: string, 3_t2: string, 4_t2: string, 5_t2: string, 6_t2: string, 7_t2: string, 8_t2: string, 9_t2: string, 10_t2: string, 11_t2: string, 12_t2: string, 13_t2: string, 14_t2: string, 15_t2: string, 16_t2: string, 17_t2: string, 18_t2: string, 19_t2: string, 20_t2: string, 21_t2: string, 22_t2: string, 23_t2: string, 24_t2: string, 25_t2: string, 26_t2: string, 27_t2: string, 28_t2: string, 29_t2: string, 30_t2: string, 1_winner: string, 2_winner: string, 3_winner: string, 4_winner: string, 5_winner: string, 6_winner: string, 7_winner: string, 8_winner: string, 9_winner: string, 10_winner: string, 11_winner: string, 12_winner: string, 13_winner: string, 14_winner: string, 15_winner: string, 16_winner: string, 17_winner: string, 18_winner: string, 19_winner: string, 20_winner: string, 21_winner: string, 22_winner: string, 23_winner: string, 24_winner: string, 25_winner: string, 26_winner: string, 27_winner: string, 28_winner: string, 29_winner: string, 30_winner: string]"
      ]
     },
     "metadata": {},
     "output_type": "display_data"
    },
    {
     "name": "stdout",
     "output_type": "stream",
     "text": [
      "+----------+--------+--------+-------------+-------------+-------+--------+--------+--------+------+-------+-------+-------+-------+-------+-------+-------+-------+-------+-------+-------+-------+-------+-------+------+-------+-------+-------+-------+-------+-------+-------+-------+-------+-------+-------+-------+-------+-------+------+-------+-------+-------+-------+-------+-------+-------+-------+-------+-------+-------+-------+-------+-------+------+-------+-------+-------+-------+-------+-------+-------+-------+-------+-------+-------+-------+-------+-------+--------+--------+--------+--------+--------+--------+--------+--------+--------+---------+---------+---------+---------+---------+---------+---------+---------+---------+---------+---------+---------+---------+---------+---------+---------+---------+---------+---------+---------+---------+\n",
      "|date      |match_id|event_id|team_1       |team_2       |best_of|_map    |t1_start|t2_start|1_t1  |2_t1   |3_t1   |4_t1   |5_t1   |6_t1   |7_t1   |8_t1   |9_t1   |10_t1  |11_t1  |12_t1  |13_t1  |14_t1  |15_t1  |16_t1 |17_t1  |18_t1  |19_t1  |20_t1  |21_t1  |22_t1  |23_t1  |24_t1  |25_t1  |26_t1  |27_t1  |28_t1  |29_t1  |30_t1  |1_t2  |2_t2   |3_t2   |4_t2   |5_t2   |6_t2   |7_t2   |8_t2   |9_t2   |10_t2  |11_t2  |12_t2  |13_t2  |14_t2  |15_t2  |16_t2 |17_t2  |18_t2  |19_t2  |20_t2  |21_t2  |22_t2  |23_t2  |24_t2  |25_t2  |26_t2  |27_t2  |28_t2  |29_t2  |30_t2  |1_winner|2_winner|3_winner|4_winner|5_winner|6_winner|7_winner|8_winner|9_winner|10_winner|11_winner|12_winner|13_winner|14_winner|15_winner|16_winner|17_winner|18_winner|19_winner|20_winner|21_winner|22_winner|23_winner|24_winner|25_winner|26_winner|27_winner|28_winner|29_winner|30_winner|\n",
      "+----------+--------+--------+-------------+-------------+-------+--------+--------+--------+------+-------+-------+-------+-------+-------+-------+-------+-------+-------+-------+-------+-------+-------+-------+------+-------+-------+-------+-------+-------+-------+-------+-------+-------+-------+-------+-------+-------+-------+------+-------+-------+-------+-------+-------+-------+-------+-------+-------+-------+-------+-------+-------+-------+------+-------+-------+-------+-------+-------+-------+-------+-------+-------+-------+-------+-------+-------+-------+--------+--------+--------+--------+--------+--------+--------+--------+--------+---------+---------+---------+---------+---------+---------+---------+---------+---------+---------+---------+---------+---------+---------+---------+---------+---------+---------+---------+---------+---------+\n",
      "|2020-03-01|2339402 |4901    |G2           |Natus Vincere|5      |Nuke    |t       |ct      |4350.0|1100.0 |22100.0|9350.0 |25750.0|10400.0|24600.0|8150.0 |26700.0|23400.0|4300.0 |25900.0|11950.0|24850.0|21900.0|4150.0|10650.0|27300.0|27000.0|30950.0|null   |null   |null   |null   |null   |null   |null   |null   |null   |null   |4250.0|20250.0|24600.0|29300.0|30650.0|31450.0|32050.0|31450.0|32050.0|30950.0|29300.0|30200.0|31550.0|32350.0|33050.0|4250.0|20300.0|8250.0 |1300.0 |22200.0|null   |null   |null   |null   |null   |null   |null   |null   |null   |null   |2.0     |2.0     |2.0     |2.0     |2.0     |2.0     |2.0     |2.0     |1.0     |2.0      |2.0      |2.0      |2.0      |2.0      |2.0      |2.0      |1.0      |1.0      |1.0      |2.0      |null     |null     |null     |null     |null     |null     |null     |null     |null     |null     |\n",
      "|2020-03-01|2339402 |4901    |G2           |Natus Vincere|5      |Dust2   |ct      |t       |3900.0|7400.0 |23250.0|28500.0|31900.0|31700.0|18950.0|30200.0|28650.0|30350.0|30150.0|11100.0|23700.0|8550.0 |26350.0|4050.0|9400.0 |21900.0|12700.0|11300.0|3100.0 |26250.0|21300.0|23950.0|27450.0|27550.0|28050.0|26250.0|26250.0|null   |3500.0|18550.0|7300.0 |1500.0 |21800.0|12000.0|21050.0|24450.0|6850.0 |26850.0|23100.0|25650.0|26800.0|26750.0|28250.0|4000.0|18850.0|15850.0|23000.0|26850.0|29100.0|26300.0|26850.0|19050.0|3500.0 |26450.0|27450.0|27500.0|29050.0|null   |2.0     |1.0     |1.0     |1.0     |1.0     |1.0     |2.0     |1.0     |1.0     |2.0      |2.0      |2.0      |2.0      |2.0      |2.0      |2.0      |1.0      |2.0      |2.0      |2.0      |2.0      |1.0      |1.0      |1.0      |1.0      |1.0      |2.0      |2.0      |2.0      |null     |\n",
      "|2020-03-01|2339402 |4901    |G2           |Natus Vincere|5      |Mirage  |t       |ct      |4150.0|14300.0|2000.0 |24800.0|9000.0 |23150.0|21850.0|23700.0|10450.0|26250.0|8800.0 |24950.0|12100.0|24350.0|18250.0|4300.0|19400.0|8900.0 |null   |null   |null   |null   |null   |null   |null   |null   |null   |null   |null   |null   |4200.0|21200.0|24150.0|27050.0|31350.0|30650.0|31050.0|28150.0|29650.0|30950.0|31550.0|32950.0|32250.0|31650.0|33350.0|4350.0|14300.0|22850.0|null   |null   |null   |null   |null   |null   |null   |null   |null   |null   |null   |null   |2.0     |2.0     |2.0     |2.0     |2.0     |2.0     |1.0     |2.0     |2.0     |2.0      |2.0      |2.0      |2.0      |2.0      |2.0      |1.0      |2.0      |2.0      |null     |null     |null     |null     |null     |null     |null     |null     |null     |null     |null     |null     |\n",
      "|2020-02-29|2339401 |4901    |Natus Vincere|Astralis     |3      |Dust2   |t       |ct      |4150.0|18050.0|21000.0|25850.0|25000.0|25000.0|27250.0|26150.0|26300.0|27850.0|26750.0|27450.0|27850.0|18300.0|27850.0|4000.0|21100.0|9100.0 |3100.0 |22100.0|23350.0|null   |null   |null   |null   |null   |null   |null   |null   |null   |4250.0|9300.0 |2100.0 |19300.0|27250.0|9850.0 |24800.0|12200.0|27550.0|26100.0|7450.0 |27650.0|24500.0|19100.0|18050.0|4150.0|15100.0|18450.0|23150.0|28150.0|27850.0|null   |null   |null   |null   |null   |null   |null   |null   |null   |1.0     |1.0     |1.0     |2.0     |1.0     |1.0     |1.0     |1.0     |1.0     |1.0      |1.0      |1.0      |1.0      |1.0      |1.0      |1.0      |2.0      |2.0      |2.0      |2.0      |1.0      |null     |null     |null     |null     |null     |null     |null     |null     |null     |\n",
      "|2020-02-29|2339401 |4901    |Natus Vincere|Astralis     |3      |Nuke    |ct      |t       |4200.0|10000.0|22000.0|24500.0|27550.0|29350.0|31950.0|31850.0|31750.0|32850.0|32150.0|31750.0|31850.0|33050.0|33150.0|4250.0|3000.0 |21150.0|11750.0|28050.0|25900.0|null   |null   |null   |null   |null   |null   |null   |null   |null   |4200.0|17950.0|9050.0 |1000.0 |22850.0|7500.0 |24400.0|24700.0|9700.0 |27150.0|21850.0|21900.0|8150.0 |25200.0|20450.0|4300.0|19300.0|27400.0|31700.0|29650.0|12150.0|null   |null   |null   |null   |null   |null   |null   |null   |null   |2.0     |1.0     |1.0     |1.0     |1.0     |1.0     |2.0     |1.0     |1.0     |1.0      |1.0      |1.0      |1.0      |1.0      |1.0      |2.0      |2.0      |2.0      |1.0      |1.0      |1.0      |null     |null     |null     |null     |null     |null     |null     |null     |null     |\n",
      "|2020-02-29|2339400 |4901    |fnatic       |G2           |3      |Inferno |t       |ct      |4550.0|16250.0|21350.0|21650.0|23550.0|24050.0|25450.0|26850.0|27850.0|24900.0|2300.0 |24650.0|9750.0 |25500.0|16150.0|4250.0|19200.0|8550.0 |1200.0 |22850.0|14750.0|18150.0|26100.0|27500.0|32750.0|31450.0|33200.0|31250.0|null   |null   |4200.0|19050.0|16350.0|22750.0|2000.0 |22750.0|25550.0|7350.0 |22250.0|28150.0|29850.0|30950.0|31950.0|31150.0|31650.0|4100.0|16200.0|21100.0|21800.0|23950.0|27350.0|25600.0|9950.0 |4900.0 |24600.0|6600.0 |25900.0|12300.0|null   |null   |2.0     |1.0     |2.0     |1.0     |1.0     |2.0     |1.0     |1.0     |2.0     |2.0      |2.0      |2.0      |2.0      |2.0      |2.0      |1.0      |2.0      |2.0      |2.0      |2.0      |2.0      |1.0      |1.0      |1.0      |1.0      |1.0      |1.0      |2.0      |null     |null     |\n",
      "|2020-02-29|2339400 |4901    |fnatic       |G2           |3      |Dust2   |ct      |t       |4450.0|10750.0|6550.0 |25950.0|19450.0|24600.0|27200.0|30300.0|26150.0|21550.0|28050.0|30450.0|19450.0|25700.0|34100.0|4000.0|1000.0 |22400.0|24200.0|25050.0|21850.0|25150.0|26650.0|8350.0 |25500.0|18900.0|22700.0|null   |null   |null   |3950.0|15700.0|14750.0|20300.0|23600.0|26750.0|5400.0 |24900.0|24950.0|8300.0 |1500.0 |24150.0|26350.0|8900.0 |22500.0|4150.0|17100.0|18850.0|15550.0|9100.0 |26450.0|28400.0|26950.0|30100.0|16100.0|23800.0|12050.0|null   |null   |null   |2.0     |2.0     |2.0     |1.0     |2.0     |1.0     |1.0     |2.0     |1.0     |1.0      |1.0      |2.0      |1.0      |1.0      |1.0      |2.0      |2.0      |1.0      |1.0      |1.0      |2.0      |1.0      |2.0      |1.0      |2.0      |1.0      |1.0      |null     |null     |null     |\n",
      "|2020-02-29|2339400 |4901    |fnatic       |G2           |3      |Train   |t       |ct      |4550.0|14600.0|2200.0 |25350.0|26950.0|27450.0|26650.0|5500.0 |20950.0|26650.0|21600.0|6850.0 |24150.0|26950.0|28850.0|3650.0|10650.0|1600.0 |25550.0|27550.0|27700.0|4900.0 |21900.0|20150.0|28400.0|29150.0|31650.0|27750.0|null   |null   |4450.0|20600.0|28450.0|32500.0|3450.0 |26350.0|22700.0|28250.0|28750.0|26350.0|32000.0|31600.0|32050.0|28700.0|14000.0|4250.0|18600.0|20600.0|21950.0|22250.0|10050.0|26400.0|26550.0|26950.0|26650.0|12650.0|25600.0|11150.0|null   |null   |2.0     |2.0     |2.0     |1.0     |1.0     |2.0     |2.0     |2.0     |1.0     |2.0      |2.0      |2.0      |1.0      |1.0      |1.0      |2.0      |2.0      |2.0      |1.0      |1.0      |2.0      |2.0      |2.0      |1.0      |1.0      |1.0      |1.0      |2.0      |null     |null     |\n",
      "|2020-03-01|2339873 |5234    |Wings        |Global       |3      |Dust2   |ct      |t       |4250.0|18950.0|14350.0|25300.0|3250.0 |7650.0 |24250.0|22950.0|8350.0 |27750.0|25200.0|23700.0|28250.0|30350.0|30750.0|3450.0|2000.0 |15400.0|19000.0|7600.0 |24900.0|26100.0|26350.0|19850.0|26750.0|27050.0|27050.0|27350.0|26100.0|null   |4050.0|12500.0|21150.0|20650.0|23850.0|23350.0|27950.0|26650.0|21450.0|25550.0|26950.0|24900.0|16850.0|4500.0 |24900.0|4200.0|19350.0|23350.0|21450.0|27950.0|29050.0|17350.0|1000.0 |23900.0|7500.0 |28900.0|25400.0|26600.0|16500.0|null   |1.0     |2.0     |1.0     |2.0     |2.0     |2.0     |1.0     |2.0     |2.0     |2.0      |1.0      |1.0      |1.0      |1.0      |2.0      |2.0      |2.0      |1.0      |2.0      |2.0      |1.0      |1.0      |1.0      |1.0      |1.0      |1.0      |2.0      |1.0      |1.0      |null     |\n",
      "|2020-03-01|2339873 |5234    |Wings        |Global       |3      |Train   |ct      |t       |4250.0|22450.0|21150.0|15250.0|8750.0 |23100.0|13250.0|30850.0|30250.0|22250.0|2800.0 |24950.0|11900.0|31650.0|24350.0|4250.0|16450.0|21300.0|21400.0|2650.0 |21950.0|7100.0 |24500.0|24000.0|22750.0|null   |null   |null   |null   |null   |4200.0|3100.0 |24500.0|19400.0|25050.0|28350.0|27750.0|25950.0|7000.0 |27550.0|27850.0|28300.0|27350.0|26650.0|28050.0|4200.0|1000.0 |23800.0|30400.0|33500.0|34500.0|33200.0|32100.0|32400.0|32800.0|null   |null   |null   |null   |null   |1.0     |1.0     |2.0     |2.0     |2.0     |2.0     |1.0     |1.0     |2.0     |2.0      |2.0      |2.0      |1.0      |2.0      |1.0      |1.0      |1.0      |2.0      |2.0      |2.0      |2.0      |2.0      |1.0      |2.0      |2.0      |null     |null     |null     |null     |null     |\n",
      "|2020-03-01|2339873 |5234    |Wings        |Global       |3      |Inferno |ct      |t       |4250.0|15850.0|20100.0|26700.0|31900.0|28850.0|27600.0|15950.0|1200.0 |24350.0|27400.0|28600.0|28900.0|27400.0|23700.0|4100.0|17750.0|21900.0|20950.0|25750.0|22950.0|23150.0|6050.0 |25200.0|22400.0|27950.0|null   |null   |null   |null   |4100.0|9450.0 |2350.0 |26850.0|15650.0|28750.0|28500.0|26350.0|25900.0|26950.0|24750.0|2300.0 |21750.0|25100.0|29350.0|4000.0|1000.0 |23950.0|28950.0|14950.0|28550.0|29650.0|31750.0|30950.0|3500.0 |21550.0|null   |null   |null   |null   |1.0     |1.0     |1.0     |1.0     |2.0     |1.0     |2.0     |2.0     |2.0     |1.0      |1.0      |1.0      |2.0      |2.0      |1.0      |1.0      |1.0      |2.0      |1.0      |1.0      |2.0      |2.0      |2.0      |1.0      |1.0      |1.0      |null     |null     |null     |null     |\n",
      "|2020-03-01|2339872 |5234    |Global       |Umumba       |1      |Inferno |t       |ct      |4200.0|13200.0|20400.0|25600.0|17900.0|23550.0|22800.0|22300.0|23350.0|18100.0|1600.0 |24150.0|4350.0 |25600.0|27300.0|4200.0|17400.0|24550.0|27450.0|30400.0|20650.0|21350.0|27850.0|31250.0|4100.0 |24500.0|29150.0|2250.0 |7400.0 |null   |4250.0|11600.0|14800.0|24000.0|26550.0|29100.0|25750.0|3450.0 |26700.0|23850.0|30550.0|29950.0|31750.0|32750.0|27850.0|4300.0|9550.0 |17800.0|6200.0 |25750.0|27250.0|26550.0|21150.0|22500.0|23900.0|22550.0|21300.0|25550.0|27450.0|null   |1.0     |1.0     |1.0     |2.0     |1.0     |2.0     |1.0     |1.0     |2.0     |2.0      |2.0      |2.0      |2.0      |1.0      |2.0      |1.0      |1.0      |1.0      |1.0      |2.0      |1.0      |1.0      |1.0      |2.0      |2.0      |1.0      |2.0      |2.0      |1.0      |null     |\n",
      "|2020-03-01|2339867 |5234    |Wings        |Global       |1      |Train   |ct      |t       |4250.0|20300.0|23750.0|26200.0|29050.0|28600.0|27250.0|28900.0|27300.0|3550.0 |22750.0|23850.0|16550.0|25550.0|8900.0 |4250.0|18600.0|23900.0|5500.0 |21300.0|3500.0 |24350.0|24350.0|17500.0|7300.0 |27050.0|26050.0|26350.0|21650.0|28000.0|4150.0|1200.0 |17800.0|10900.0|25950.0|25950.0|26850.0|26450.0|21700.0|22800.0|24400.0|26150.0|25200.0|22650.0|25550.0|4200.0|1000.0 |23700.0|21650.0|27300.0|29700.0|31850.0|26600.0|30000.0|30650.0|30350.0|2500.0 |28700.0|32850.0|17600.0|1.0     |1.0     |1.0     |1.0     |2.0     |2.0     |1.0     |1.0     |2.0     |2.0      |1.0      |2.0      |1.0      |2.0      |2.0      |1.0      |1.0      |2.0      |2.0      |2.0      |2.0      |1.0      |2.0      |2.0      |2.0      |1.0      |1.0      |2.0      |1.0      |1.0      |\n",
      "|2020-03-01|2339871 |5216    |Paradox      |Skyfire      |3      |Default |ct      |t       |4000.0|18300.0|18200.0|24950.0|31900.0|32200.0|23900.0|29750.0|23050.0|26100.0|9350.0 |1300.0 |19250.0|26800.0|12450.0|4100.0|800.0  |21900.0|20600.0|23100.0|27350.0|27150.0|24650.0|20100.0|null   |null   |null   |null   |null   |null   |3850.0|16250.0|18900.0|21850.0|8600.0 |23850.0|22200.0|6600.0 |27250.0|22700.0|26350.0|22350.0|25150.0|11600.0|22100.0|3850.0|20650.0|21700.0|17900.0|8700.0 |1800.0 |28000.0|23800.0|28650.0|null   |null   |null   |null   |null   |null   |1.0     |1.0     |1.0     |1.0     |1.0     |2.0     |1.0     |1.0     |1.0     |2.0      |2.0      |2.0      |1.0      |2.0      |2.0      |2.0      |2.0      |1.0      |1.0      |1.0      |1.0      |1.0      |1.0      |1.0      |null     |null     |null     |null     |null     |null     |\n",
      "|2020-03-01|2339868 |5216    |Lucid        |Skyfire      |3      |Inferno |t       |ct      |4150.0|14800.0|18550.0|23500.0|26650.0|23000.0|4400.0 |24600.0|24900.0|20550.0|19950.0|22000.0|24600.0|24900.0|20100.0|4200.0|6800.0 |5600.0 |27750.0|27900.0|9350.0 |25500.0|6750.0 |29450.0|6450.0 |29150.0|31500.0|31450.0|30850.0|null   |4350.0|10100.0|1200.0 |27900.0|8650.0 |31750.0|30050.0|33150.0|26700.0|28800.0|12750.0|18100.0|7350.0 |26800.0|28500.0|4100.0|19500.0|22050.0|22650.0|25350.0|25650.0|28050.0|25700.0|24900.0|27550.0|27050.0|24700.0|24500.0|20700.0|null   |1.0     |1.0     |1.0     |1.0     |2.0     |2.0     |2.0     |1.0     |2.0     |1.0      |1.0      |1.0      |1.0      |2.0      |2.0      |2.0      |2.0      |2.0      |1.0      |2.0      |2.0      |2.0      |2.0      |2.0      |2.0      |1.0      |1.0      |1.0      |2.0      |null     |\n",
      "|2020-03-01|2339868 |5216    |Lucid        |Skyfire      |3      |Vertigo |ct      |t       |4300.0|19650.0|24550.0|29150.0|24150.0|13050.0|27550.0|29600.0|29500.0|28600.0|28700.0|9550.0 |15900.0|28500.0|15550.0|4200.0|17300.0|15500.0|1200.0 |22400.0|23000.0|24900.0|16000.0|18800.0|26750.0|5500.0 |21100.0|2800.0 |24100.0|13750.0|4100.0|15300.0|3300.0 |25200.0|24900.0|24300.0|18300.0|3750.0 |24300.0|22700.0|23200.0|24900.0|25000.0|26950.0|26000.0|4300.0|11050.0|23400.0|26500.0|21750.0|23300.0|1600.0 |27700.0|12700.0|15400.0|28150.0|29700.0|31000.0|30650.0|22700.0|1.0     |1.0     |1.0     |2.0     |2.0     |1.0     |1.0     |1.0     |1.0     |1.0      |2.0      |2.0      |1.0      |2.0      |2.0      |1.0      |2.0      |2.0      |2.0      |1.0      |1.0      |2.0      |1.0      |1.0      |2.0      |2.0      |2.0      |2.0      |2.0      |2.0      |\n",
      "|2020-03-01|2339748 |5152    |Incept       |Rooster      |1      |Overpass|t       |ct      |4000.0|9400.0 |3950.0 |24150.0|18300.0|23550.0|20350.0|19450.0|22700.0|17950.0|18750.0|23200.0|25900.0|20350.0|27050.0|4350.0|11050.0|5400.0 |22500.0|null   |null   |null   |null   |null   |null   |null   |null   |null   |null   |null   |4200.0|18500.0|22550.0|26200.0|29750.0|30250.0|30350.0|27950.0|30250.0|28150.0|32150.0|31650.0|32850.0|32100.0|29550.0|4250.0|20050.0|25700.0|22600.0|null   |null   |null   |null   |null   |null   |null   |null   |null   |null   |null   |2.0     |2.0     |2.0     |2.0     |1.0     |2.0     |2.0     |2.0     |2.0     |2.0      |2.0      |1.0      |2.0      |1.0      |2.0      |2.0      |2.0      |2.0      |2.0      |null     |null     |null     |null     |null     |null     |null     |null     |null     |null     |null     |\n",
      "|2020-03-01|2339866 |5234    |LevelZero    |Umumba       |1      |Nuke    |ct      |t       |4350.0|11050.0|2250.0 |27150.0|27500.0|8650.0 |25000.0|24700.0|22950.0|26700.0|27900.0|28700.0|28900.0|29050.0|31650.0|4150.0|16400.0|1600.0 |21000.0|24100.0|14850.0|7500.0 |20450.0|5150.0 |25900.0|24100.0|25500.0|24900.0|23400.0|25600.0|4350.0|16600.0|19100.0|22350.0|18500.0|23550.0|24900.0|24600.0|23900.0|20450.0|7550.0 |25100.0|26100.0|24600.0|25000.0|4450.0|10400.0|23200.0|24100.0|28750.0|27100.0|25900.0|28450.0|30800.0|31500.0|31100.0|28700.0|31650.0|6550.0 |21700.0|2.0     |2.0     |2.0     |1.0     |2.0     |2.0     |1.0     |1.0     |1.0     |1.0      |1.0      |1.0      |1.0      |1.0      |1.0      |1.0      |2.0      |2.0      |1.0      |2.0      |2.0      |2.0      |2.0      |2.0      |2.0      |1.0      |2.0      |1.0      |1.0      |2.0      |\n",
      "|2020-03-01|2339865 |5216    |Paradox      |Lucid        |3      |Mirage  |ct      |t       |4300.0|20050.0|24150.0|18050.0|19600.0|2400.0 |1800.0 |27200.0|7600.0 |31050.0|31100.0|26900.0|14550.0|23150.0|16100.0|3600.0|15950.0|14600.0|9350.0 |2200.0 |24300.0|26250.0|26350.0|26650.0|27950.0|null   |null   |null   |null   |null   |3350.0|1400.0 |21500.0|23200.0|24750.0|22850.0|24500.0|26050.0|26150.0|26450.0|25450.0|25150.0|25850.0|25850.0|27050.0|4300.0|8300.0 |27800.0|29100.0|30450.0|31950.0|7350.0 |24500.0|2900.0 |24450.0|null   |null   |null   |null   |null   |1.0     |1.0     |2.0     |1.0     |2.0     |2.0     |2.0     |2.0     |2.0     |1.0      |2.0      |2.0      |2.0      |2.0      |2.0      |1.0      |2.0      |2.0      |2.0      |2.0      |1.0      |1.0      |1.0      |1.0      |2.0      |null     |null     |null     |null     |null     |\n",
      "|2020-03-01|2339865 |5216    |Paradox      |Lucid        |3      |Train   |t       |ct      |4150.0|1800.0 |22500.0|23900.0|24600.0|24600.0|24300.0|26050.0|26850.0|26750.0|27150.0|27450.0|27450.0|27050.0|27950.0|4250.0|20500.0|12000.0|25700.0|27100.0|28250.0|32700.0|30950.0|5650.0 |24500.0|1700.0 |null   |null   |null   |null   |4250.0|18550.0|22300.0|4100.0 |4700.0 |27950.0|27650.0|30550.0|4950.0 |6100.0 |27150.0|3400.0 |28750.0|7150.0 |29550.0|4100.0|16150.0|24900.0|2200.0 |21650.0|3050.0 |24600.0|24200.0|27050.0|25550.0|26450.0|null   |null   |null   |null   |2.0     |2.0     |1.0     |1.0     |1.0     |2.0     |2.0     |1.0     |1.0     |1.0      |1.0      |1.0      |1.0      |1.0      |2.0      |1.0      |2.0      |1.0      |1.0      |1.0      |1.0      |2.0      |2.0      |2.0      |2.0      |1.0      |null     |null     |null     |null     |\n",
      "+----------+--------+--------+-------------+-------------+-------+--------+--------+--------+------+-------+-------+-------+-------+-------+-------+-------+-------+-------+-------+-------+-------+-------+-------+------+-------+-------+-------+-------+-------+-------+-------+-------+-------+-------+-------+-------+-------+-------+------+-------+-------+-------+-------+-------+-------+-------+-------+-------+-------+-------+-------+-------+-------+------+-------+-------+-------+-------+-------+-------+-------+-------+-------+-------+-------+-------+-------+-------+--------+--------+--------+--------+--------+--------+--------+--------+--------+---------+---------+---------+---------+---------+---------+---------+---------+---------+---------+---------+---------+---------+---------+---------+---------+---------+---------+---------+---------+---------+\n",
      "only showing top 20 rows\n",
      "\n"
     ]
    }
   ],
   "source": [
    "# Data Extraction\n",
    "df2 = spark.read.format(\"csv\") \\\n",
    ".option(\"header\", \"true\") \\\n",
    ".load(\"./economy.csv\")\n",
    "display(df2)\n",
    "df2.show(truncate=False)"
   ]
  },
  {
   "cell_type": "code",
   "execution_count": 7,
   "metadata": {},
   "outputs": [
    {
     "data": {
      "text/plain": [
       "DataFrame[match_id: string, _map: string, team_1: string, team_2: string, map_winner: string, starting_ct: string, match_winner: string]"
      ]
     },
     "metadata": {},
     "output_type": "display_data"
    }
   ],
   "source": [
    "df_limited = df1.select(df1['match_id'], df1['_map'], df1['team_1'], df1['team_2'], df1['map_winner'], df1['starting_ct'], df1['match_winner'])\n",
    "display(df_limited)"
   ]
  },
  {
   "cell_type": "code",
   "execution_count": 8,
   "metadata": {},
   "outputs": [
    {
     "data": {
      "text/plain": [
       "DataFrame[match_id: string, _map: string, team_1: string, team_2: string, best_of: string]"
      ]
     },
     "metadata": {},
     "output_type": "display_data"
    }
   ],
   "source": [
    "df2_limited = df2.select(df2['match_id'], df2['_map'], df2['team_1'], df2['team_2'], df2['best_of'])\n",
    "display(df2_limited)"
   ]
  },
  {
   "cell_type": "code",
   "execution_count": 9,
   "metadata": {},
   "outputs": [
    {
     "data": {
      "text/plain": [
       "DataFrame[partida: string, mapa: string, equipe1: string, equipe2: string, vitorioso: string, ct: string, tr: string]"
      ]
     },
     "metadata": {},
     "output_type": "display_data"
    }
   ],
   "source": [
    "#Pré-processamento para Tabela de Jogos no Kudu\n",
    "df_collect = df_limited.collect()\n",
    "returnval = []\n",
    "for i in range(df_limited.count()):\n",
    "    selected_row = df_collect[i]\n",
    "\n",
    "    map_winner_num = selected_row['map_winner']\n",
    "    map_winner = selected_row[f'team_{map_winner_num}']\n",
    "\n",
    "    starting_ct_num = selected_row['starting_ct']\n",
    "    start_ct = selected_row[f'team_{starting_ct_num}']\n",
    "\n",
    "    tr = ''\n",
    "    if start_ct == selected_row['team_2']:\n",
    "        tr = selected_row['team_1']\n",
    "    else:\n",
    "        tr = selected_row['team_2']\n",
    "        \n",
    "    \n",
    "    returnval.append([selected_row['match_id'], selected_row['_map'], selected_row['team_1'], selected_row['team_2'], map_winner, start_ct, tr])\n",
    "    \n",
    "\n",
    "schema = ['partida','mapa', 'equipe1','equipe2','vitorioso','ct','tr']\n",
    "df_mapas = spark.createDataFrame(returnval, schema)\n",
    "display(df_mapas)"
   ]
  },
  {
   "cell_type": "code",
   "execution_count": 10,
   "metadata": {},
   "outputs": [],
   "source": [
    "def store_in_kudu(df, table):\n",
    "    df.write.option('kudu.master', KUDU_MASTER).option('kudu.table', f'impala::default.{table}').mode('append').format('kudu').save()"
   ]
  },
  {
   "cell_type": "code",
   "execution_count": 11,
   "metadata": {},
   "outputs": [],
   "source": [
    "def read_from_kudu(table):\n",
    "     return spark.read.option('kudu.master', KUDU_MASTER).option('kudu.table', f'impala::default.{table}').format('kudu').load()"
   ]
  },
  {
   "cell_type": "code",
   "execution_count": 12,
   "metadata": {},
   "outputs": [],
   "source": [
    "store_in_kudu(df_mapas,'jogos')"
   ]
  },
  {
   "cell_type": "code",
   "execution_count": 13,
   "metadata": {},
   "outputs": [
    {
     "data": {
      "text/plain": [
       "DataFrame[partida: string, mapa: string, equipe1: string, equipe2: string, vitorioso: string, ct: string, tr: string]"
      ]
     },
     "metadata": {},
     "output_type": "display_data"
    }
   ],
   "source": [
    "table = read_from_kudu('jogos')\n",
    "table.createOrReplaceTempView('jogos')\n",
    "display(table)"
   ]
  },
  {
   "cell_type": "code",
   "execution_count": 14,
   "metadata": {},
   "outputs": [
    {
     "data": {
      "text/plain": [
       "DataFrame[match_id: string, _map: string, team_1: string, team_2: string, match_winner: string, best_of: string]"
      ]
     },
     "metadata": {},
     "output_type": "display_data"
    }
   ],
   "source": [
    "condition = [df_limited.match_id == df2_limited.match_id, df_limited._map == df2_limited._map]\n",
    "df_join = df_limited.join(df2_limited,condition,\"inner\").select(df_limited.match_id,df_limited._map, df_limited.team_1, df_limited.team_2,df_limited.match_winner,df2_limited.best_of)\n",
    "display(df_join)"
   ]
  },
  {
   "cell_type": "code",
   "execution_count": 15,
   "metadata": {},
   "outputs": [
    {
     "name": "stdout",
     "output_type": "stream",
     "text": [
      "+------+\n",
      "|team_2|\n",
      "+------+\n",
      "+------+\n",
      "\n",
      "+------+\n",
      "|team_1|\n",
      "+------+\n",
      "+------+\n",
      "\n"
     ]
    }
   ],
   "source": [
    "df_missing_teams = df_join.select('team_2').distinct().subtract(df_join.select('team_1').distinct())\n",
    "df_teams = df_join.select('team_1').distinct().union(df_missing_teams).withColumnRenamed('team_1','teams')\n",
    "df_join.select('team_2').distinct().exceptAll(df_teams).show()\n",
    "df_join.select('team_1').distinct().exceptAll(df_teams).show()"
   ]
  },
  {
   "cell_type": "code",
   "execution_count": 16,
   "metadata": {},
   "outputs": [
    {
     "data": {
      "text/plain": [
       "DataFrame[partida: string, mapa: string, equipe1: string, equipe2: string, vitorioso: string, md: string]"
      ]
     },
     "metadata": {},
     "output_type": "display_data"
    }
   ],
   "source": [
    "df_join = df_join.withColumnRenamed('match_id', 'partida') \\\n",
    "                    .withColumnRenamed('_map', 'mapa') \\\n",
    "                .withColumnRenamed('team_1', 'equipe1') \\\n",
    "                .withColumnRenamed('team_2', 'equipe2') \\\n",
    "                .withColumnRenamed('match_winner', 'vitorioso') \\\n",
    "                .withColumnRenamed('best_of', 'md')\n",
    "display(df_join)"
   ]
  },
  {
   "cell_type": "code",
   "execution_count": 17,
   "metadata": {},
   "outputs": [],
   "source": [
    "store_in_kudu(df_join,'proc')"
   ]
  },
  {
   "cell_type": "code",
   "execution_count": 18,
   "metadata": {},
   "outputs": [
    {
     "data": {
      "text/plain": [
       "DataFrame[partida: string, mapa: string, equipe1: string, equipe2: string, vitorioso: string, md: string]"
      ]
     },
     "metadata": {},
     "output_type": "display_data"
    }
   ],
   "source": [
    "teste = read_from_kudu('proc')\n",
    "teste.createOrReplaceTempView('proc')\n",
    "display(teste)"
   ]
  },
  {
   "cell_type": "code",
   "execution_count": 19,
   "metadata": {},
   "outputs": [
    {
     "data": {
      "text/plain": [
       "DataFrame[equipe: string, jogos: bigint, vitorias: bigint, derrotas: bigint, md1: bigint, md2: bigint, md3: bigint, md5: bigint, jmd1: bigint, jmd2: bigint, jmd3: bigint, jmd5: bigint]"
      ]
     },
     "metadata": {},
     "output_type": "display_data"
    }
   ],
   "source": [
    "df_collect = df_teams.collect()\n",
    "data = []\n",
    "for i in range(df_teams.count()):\n",
    "    selected_row = df_collect[i]\n",
    "    current_team = selected_row['teams']\n",
    "    #print(current_team)\n",
    "    \n",
    "    num_jogos1 = spark.sql(f'SELECT COUNT(*) as cnt FROM (SELECT DISTINCT partida FROM proc WHERE equipe1 = \"{current_team}\" or equipe2 = \"{current_team}\") a')\n",
    "    total_jogos = num_jogos1.collect()[0][0]\n",
    "\n",
    "    vitorias = spark.sql(f'SELECT COUNT(*) as jogos FROM (SELECT DISTINCT partida FROM proc WHERE (equipe1 = \"{current_team}\" and vitorioso = \"1\") or (equipe2 = \"{current_team}\" and vitorioso = \"2\" ) ) a').collect()[0][0] \n",
    "    derrotas = total_jogos - vitorias\n",
    "    \n",
    "    jmd5 = spark.sql(f'SELECT COUNT(*) as jogos FROM (SELECT DISTINCT partida FROM proc WHERE md = \"5\" and (equipe1 = \"{current_team}\" or equipe2 = \"{current_team}\")) a').collect()[0][0]\n",
    "    md5 = spark.sql(f'SELECT COUNT(*) as jogos FROM (SELECT DISTINCT partida FROM proc WHERE md = \"5\" and ((equipe1 = \"{current_team}\"  and vitorioso = \"1\")  or (equipe2 = \"{current_team}\" and vitorioso = \"2\")) ) a').collect()[0][0]\n",
    "\n",
    "    jmd3 = spark.sql(f'SELECT COUNT(*) as jogos FROM (SELECT DISTINCT partida FROM proc WHERE md = \"3\" and (equipe1 = \"{current_team}\" or equipe2 = \"{current_team}\")) a').collect()[0][0]\n",
    "    md3 = spark.sql(f'SELECT COUNT(*) as jogos FROM (SELECT DISTINCT partida FROM proc WHERE md = \"3\" and ((equipe1 = \"{current_team}\" and vitorioso = \"1\") or (equipe2 = \"{current_team}\" and vitorioso = \"2\")) ) a').collect()[0][0]\n",
    "\n",
    "    jmd2 = spark.sql(f'SELECT COUNT(*) as jogos FROM (SELECT DISTINCT partida FROM proc WHERE md = \"2\" and (equipe1 = \"{current_team}\" or equipe2 = \"{current_team}\")) a').collect()[0][0]\n",
    "    md2 = spark.sql(f'SELECT COUNT(*) as jogos FROM (SELECT DISTINCT partida FROM proc WHERE md = \"2\" and ((equipe1 = \"{current_team}\" and vitorioso = \"1\") or (equipe2 = \"{current_team}\" and vitorioso = \"2\") ) ) a').collect()[0][0]\n",
    "\n",
    "    jmd1 = spark.sql(f'SELECT COUNT(*) as jogos FROM (SELECT DISTINCT partida FROM proc WHERE md = \"1\" and (equipe1 = \"{current_team}\" or equipe2 = \"{current_team}\")) a').collect()[0][0]\n",
    "    md1 = spark.sql(f'SELECT COUNT(*) as jogos FROM (SELECT DISTINCT partida FROM proc WHERE md = \"1\" and  ((equipe1 = \"{current_team}\"  and vitorioso = \"1\") or (equipe2 = \"{current_team}\" and vitorioso = \"2\"))) a').collect()[0][0]\n",
    "\n",
    "    data.append([current_team,total_jogos,vitorias,derrotas, md1, md2, md3, md5,jmd1, jmd2, jmd3,jmd5])\n",
    "\n",
    "schema = ['equipe','jogos', 'vitorias', 'derrotas','md1', 'md2', 'md3', 'md5','jmd1', 'jmd2', 'jmd3','jmd5']\n",
    "df_equipes = spark.createDataFrame(data, schema)\n",
    "display(df_equipes)"
   ]
  },
  {
   "cell_type": "code",
   "execution_count": 20,
   "metadata": {},
   "outputs": [],
   "source": [
    "df_equipes = df_equipes.withColumn('jogos', df_equipes.jogos.cast(DecimalType(8, 5))) \\\n",
    "    .withColumn('vitorias', df_equipes.vitorias.cast(DecimalType(8, 5))) \\\n",
    "    .withColumn('derrotas', df_equipes.derrotas.cast(DecimalType(8, 5))) \\\n",
    "    .withColumn('md1', df_equipes.md1.cast(DecimalType(8, 5))) \\\n",
    "    .withColumn('md2', df_equipes.md2.cast(DecimalType(8, 5))) \\\n",
    "    .withColumn('md3', df_equipes.md3.cast(DecimalType(8, 5))) \\\n",
    "    .withColumn('md5', df_equipes.md5.cast(DecimalType(8, 5))) \\\n",
    "    .withColumn('jmd1', df_equipes.jmd1.cast(DecimalType(8, 5))) \\\n",
    "    .withColumn('jmd2', df_equipes.jmd2.cast(DecimalType(8, 5))) \\\n",
    "    .withColumn('jmd3', df_equipes.jmd3.cast(DecimalType(8, 5))) \\\n",
    "    .withColumn('jmd5', df_equipes.jmd5.cast(DecimalType(8, 5)))"
   ]
  },
  {
   "cell_type": "code",
   "execution_count": 21,
   "metadata": {},
   "outputs": [],
   "source": [
    "store_in_kudu(df_equipes,'equipes')\n",
    "equipes = read_from_kudu('equipes')\n",
    "equipes.createOrReplaceTempView('equipes')"
   ]
  },
  {
   "cell_type": "markdown",
   "metadata": {},
   "source": [
    "# Neo4j Data Pre Processing\n",
    "This step will use the loaded data in Apache Kudu to pre process specific team win rates, and insert that data into de Neo4j database for later use during result prediction."
   ]
  },
  {
   "cell_type": "code",
   "execution_count": 37,
   "metadata": {},
   "outputs": [],
   "source": [
    "# Creating all the nodes\n",
    "team_node_schema = StructType([StructField(\"name\", StringType(), False),\\\n",
    "                     StructField(\"mostPicked\", StringType(), True),\\\n",
    "                     StructField(\"mostBanned\", StringType(), True),\\\n",
    "                     StructField(\"mostWon\", StringType(), True),\\\n",
    "                     StructField(\"mostLost\", StringType(), True)])\n",
    "list_team_name = spark.sql(\"SELECT DISTINCT equipe FROM equipes\")\n",
    "rows = [Row(name=row[\"equipe\"], mostPicked=None,mostBanned=None,mostWon=None,mostLost=None) for row in list_team_name.collect()]\n",
    "df = spark.createDataFrame(rows,schema=team_node_schema)\n",
    "df.write.format(\"org.neo4j.spark.DataSource\")\\\n",
    " .option(\"url\", \"bolt://neo4j:7687\")\\\n",
    " .option(\"authentication.type\", \"none\")\\\n",
    " .option(\"labels\", \":Team\")\\\n",
    " .mode(\"Append\")\\\n",
    " .save()"
   ]
  },
  {
   "cell_type": "code",
   "execution_count": null,
   "metadata": {},
   "outputs": [],
   "source": [
    "# Populating attributes"
   ]
  },
  {
   "cell_type": "code",
   "execution_count": null,
   "metadata": {},
   "outputs": [],
   "source": [
    "# Populating relationships\n",
    "list_map_name = spark.sql(\"SELECT DISTINCT mapa FROM proc\")\n",
    "for x in range(df_teams.count()):\n",
    "    origin_row = df_collect[x]\n",
    "    origin_team = selected_row['teams']   \n",
    "    for i in range(df_teams.count()):\n",
    "        target_row = df_collect[i]\n",
    "        target_team = selected_row['teams']\n",
    "        if origin_team == target_team:\n",
    "            pass\n",
    "        jmd5 = spark.sql(f'SELECT COUNT(*) as jogos FROM (SELECT DISTINCT partida FROM proc WHERE md = \"5\" and ((equipe1 = \"{origin_team}\" and equipe2 = \"{target_team}\") or (equipe1 = \"{target_team}\" and equipe2 = \"{origin_team}\")) a').collect()[0][0]\n",
    "        md5 = spark.sql(f'SELECT COUNT(*) as jogos FROM (SELECT DISTINCT partida FROM proc WHERE md = \"5\" and ((equipe1 = \"{current_team}\" and equipe2 = \"{target_team}\"  and vitorioso = \"1\")  or (equipe1 = \"{target_team}\" and equipe2 = \"{current_team}\" and vitorioso = \"2\")) ) a').collect()[0][0]\n",
    "    \n",
    "        jmd3 = spark.sql(f'SELECT COUNT(*) as jogos FROM (SELECT DISTINCT partida FROM proc WHERE md = \"3\" and ((equipe1 = \"{origin_team}\" and equipe2 = \"{target_team}\") or (equipe1 = \"{target_team}\" and equipe2 = \"{origin_team}\")) a').collect()[0][0]\n",
    "        md3 = spark.sql(f'SELECT COUNT(*) as jogos FROM (SELECT DISTINCT partida FROM proc WHERE md = \"3\" and ((equipe1 = \"{current_team}\" and equipe2 = \"{target_team}\"  and vitorioso = \"1\")  or (equipe1 = \"{target_team}\" and equipe2 = \"{current_team}\" and vitorioso = \"2\")) ) a').collect()[0][0]\n",
    "    \n",
    "        jmd2 = spark.sql(f'SELECT COUNT(*) as jogos FROM (SELECT DISTINCT partida FROM proc WHERE md = \"2\" and ((equipe1 = \"{origin_team}\" and equipe2 = \"{target_team}\") or (equipe1 = \"{target_team}\" and equipe2 = \"{origin_team}\")) a').collect()[0][0]\n",
    "        md2 = spark.sql(f'SELECT COUNT(*) as jogos FROM (SELECT DISTINCT partida FROM proc WHERE md = \"2\" and ((equipe1 = \"{current_team}\" and equipe2 = \"{target_team}\"  and vitorioso = \"1\")  or (equipe1 = \"{target_team}\" and equipe2 = \"{current_team}\" and vitorioso = \"2\")) ) a').collect()[0][0]\n",
    "    \n",
    "        jmd1 = spark.sql(f'SELECT COUNT(*) as jogos FROM (SELECT DISTINCT partida FROM proc WHERE md = \"1\" and ((equipe1 = \"{origin_team}\" and equipe2 = \"{target_team}\") or (equipe1 = \"{target_team}\" and equipe2 = \"{origin_team}\")) a').collect()[0][0]\n",
    "        md1 = spark.sql(f'SELECT COUNT(*) as jogos FROM (SELECT DISTINCT partida FROM proc WHERE md = \"1\" and ((equipe1 = \"{current_team}\" and equipe2 = \"{target_team}\"  and vitorioso = \"1\")  or (equipe1 = \"{target_team}\" and equipe2 = \"{current_team}\" and vitorioso = \"2\")) ) a').collect()[0][0]\n",
    "\n",
    "        if jmd5 == 0 and jmd3 == 0 and jmd2 == 0 and jmd1 == 0:\n",
    "            pass\n",
    "        \n",
    "        txmd5 = 0\n",
    "        if jmd5 != 0:\n",
    "            txmd5 = md5/jmd5\n",
    "        txmd3 = 0\n",
    "        if jmd3 != 0:\n",
    "            txmd3 = md3/jmd3\n",
    "        txmd2 = 0\n",
    "        if jmd2 != 0:\n",
    "            txmd2 = md2/jmd2\n",
    "        txmd1 = 0\n",
    "        if jmd1 != 0:\n",
    "            txmd5 = md1/jmd1\n",
    "        \n",
    "        relationship_type = 'played'\n",
    "         relationship_properties = {\n",
    "             'bo5': txmd5,\n",
    "             'bo3': txmd3,\n",
    "             'bo2': txmd2,\n",
    "             'bo1': txmd1\n",
    "         }\n",
    "        relationship_df = spark.createDataFrame(\n",
    "             [(origin_team, target_team, relationship_type, relationship_properties)],\n",
    "             ['src', 'dst', 'relationship_type', 'relationship_properties']\n",
    "         )\n",
    "        relationship_df.write \\\n",
    "             .format('org.neo4j.spark.DataSource') \\\n",
    "             .option('url', 'bolt://neo4j:7687') \\\n",
    "             .option(\"authentication.type\", \"none\")\\\n",
    "             .option('relationship.save.strategy', 'keys') \\\n",
    "             .option('relationship.source.labels', ':Team') \\\n",
    "             .option('relationship.target.labels', ':Team') \\\n",
    "             .option('relationship.source.nodes.map', 'name') \\\n",
    "             .option('relationship.target.nodes.map', 'name') \\\n",
    "             .option('relationship', relationship_type) \\\n",
    "             .mode('append') \\\n",
    "             .save()\n"
   ]
  },
  {
   "cell_type": "code",
   "execution_count": 41,
   "metadata": {},
   "outputs": [],
   "source": [
    "relationship_type = 'played'\n",
    "relationship_properties = {\n",
    " 'bo5': 0.4,\n",
    " 'bo3': 0.80,\n",
    " 'bo2': 0,\n",
    " 'bo1': 0.2\n",
    "}\n",
    "relationship_df = spark.createDataFrame(\n",
    " [(\"fnatic\", \"navi\", relationship_type, relationship_properties)],\n",
    " ['src', 'dst', 'relationship_type', 'relationship_properties']\n",
    ")\n",
    "relationship_df.write \\\n",
    " .format('org.neo4j.spark.DataSource') \\\n",
    " .option('url', 'bolt://neo4j:7687') \\\n",
    " .option(\"authentication.type\", \"none\")\\\n",
    " .option('relationship.save.strategy', 'keys') \\\n",
    " .option('relationship.source.labels', ':Team') \\\n",
    " .option('relationship.target.labels', ':Team') \\\n",
    " .option('relationship.source.nodes.map', 'name') \\\n",
    " .option('relationship.target.nodes.map', 'name') \\\n",
    " .option('relationship', relationship_type) \\\n",
    " .mode('append') \\\n",
    " .save()"
   ]
  },
  {
   "cell_type": "code",
   "execution_count": 42,
   "metadata": {},
   "outputs": [
    {
     "data": {
      "text/plain": [
       "DataFrame[<id>: bigint, <labels>: array<string>, name: string]"
      ]
     },
     "metadata": {},
     "output_type": "display_data"
    },
    {
     "name": "stdout",
     "output_type": "stream",
     "text": [
      "+----+--------+----------------+\n",
      "|<id>|<labels>|name            |\n",
      "+----+--------+----------------+\n",
      "|0   |[Team]  |ex-SEAL         |\n",
      "|1   |[Team]  |LEOPARD         |\n",
      "|2   |[Team]  |TeamOne         |\n",
      "|3   |[Team]  |ex-Spartak      |\n",
      "|4   |[Team]  |Lowkey          |\n",
      "|5   |[Team]  |Windigo         |\n",
      "|6   |[Team]  |x6tence Galaxy  |\n",
      "|7   |[Team]  |Emprox          |\n",
      "|8   |[Team]  |Shooting Monkeys|\n",
      "|9   |[Team]  |Elite Wolves    |\n",
      "|10  |[Team]  |Armada          |\n",
      "|11  |[Team]  |SKDC            |\n",
      "|12  |[Team]  |Evidence        |\n",
      "|13  |[Team]  |Rebirth         |\n",
      "|14  |[Team]  |UnderPressure   |\n",
      "|15  |[Team]  |RuSh3D          |\n",
      "|16  |[Team]  |BRIEF           |\n",
      "|17  |[Team]  |VB              |\n",
      "|18  |[Team]  |MIKSTURA        |\n",
      "|19  |[Team]  |Binary Dragons  |\n",
      "+----+--------+----------------+\n",
      "only showing top 20 rows\n",
      "\n"
     ]
    }
   ],
   "source": [
    "df = spark.read.format(\"org.neo4j.spark.DataSource\")\\\n",
    "        .option(\"url\", \"bolt://neo4j:7687\")\\\n",
    "        .option(\"authentication.type\", \"none\")\\\n",
    "        .option(\"labels\", \"Team\")\\\n",
    "        .load()\n",
    "display(df)\n",
    "df.show(truncate=False)"
   ]
  },
  {
   "cell_type": "markdown",
   "metadata": {},
   "source": [
    "# Result Prediction\n",
    "This is the main step to be used in result prediction, it will load data from Neo4j, while simultaneously processing raw generic data present in Apache Kudu. Results from both databases will then be fed into an algorithm that predicts the winner of the match."
   ]
  },
  {
   "cell_type": "code",
   "execution_count": 39,
   "metadata": {},
   "outputs": [],
   "source": [
    "def generalMapWR(team, map):\n",
    "    games = spark.sql(f'SELECT COUNT(*) as jogos FROM (SELECT partida,mapa FROM jogos WHERE mapa = \"{map}\" and equipe1 = \"{team}\" or equipe2 = \"{team}\")').collect()[0][0]\n",
    "    if games == 0:\n",
    "            return None\n",
    "    wins = spark.sql(f'SELECT COUNT(*) as jogos FROM (SELECT partida,mapa FROM jogos WHERE vitorioso = \"{team}\" and mapa = \"{map}\")').collect()[0][0]\n",
    "    return wins/games\n",
    "\n",
    "def generalMapSideWR(team, map, side):\n",
    "    if side == 'TR': \n",
    "        games = spark.sql(f'SELECT COUNT(*) as jogos FROM (SELECT partida,mapa FROM jogos WHERE mapa = \"{map}\" and (equipe1 = \"{team}\" or equipe2 = \"{team}\") and tr = \"{team}\")').collect()[0][0]\n",
    "        if games == 0:\n",
    "                return None\n",
    "        wins = spark.sql(f'SELECT COUNT(*) as jogos FROM (SELECT partida,mapa FROM jogos WHERE vitorioso = \"{team}\" and mapa = \"{map}\" and tr = \"{team}\")').collect()[0][0]\n",
    "        return wins/games\n",
    "    if side == 'CT':\n",
    "        games = spark.sql(f'SELECT COUNT(*) as jogos FROM (SELECT partida,mapa FROM jogos WHERE mapa = \"{map}\" and (equipe1 = \"{team}\" or equipe2 = \"{team}\") and ct = \"{team}\")').collect()[0][0]\n",
    "        if games == 0:\n",
    "                return None\n",
    "        wins = spark.sql(f'SELECT COUNT(*) as jogos FROM (SELECT partida,mapa FROM jogos WHERE vitorioso = \"{team}\" and mapa = \"{map}\" and ct = \"{team}\")').collect()[0][0]\n",
    "        return wins/games\n",
    "\n",
    "def generalSideWR(team, side):\n",
    "    if side == 'TR':\n",
    "        games = spark.sql(f'SELECT COUNT(*) as jogos FROM (SELECT partida, mapa FROM jogos WHERE tr = \"{team}\")').collect()[0][0]\n",
    "        if games == 0:\n",
    "            return None\n",
    "        wins = spark.sql(f'SELECT COUNT(*) as jogos FROM (SELECT partida,mapa FROM jogos WHERE vitorioso = \"{team}\" and tr = \"{team}\")').collect()[0][0]\n",
    "        return wins/games\n",
    "    if side == 'CT':\n",
    "        games = spark.sql(f'SELECT COUNT(*) as jogos FROM (SELECT partida, mapa FROM jogos WHERE ct = \"{team}\")').collect()[0][0]\n",
    "        if games == 0:\n",
    "            return None\n",
    "        wins = spark.sql(f'SELECT COUNT(*) as jogos FROM (SELECT partida,mapa FROM jogos WHERE vitorioso = \"{team}\" and ct = \"{team}\")').collect()[0][0]\n",
    "        return wins/games\n",
    "\n",
    "def generalTeamWR(team):\n",
    "    games = spark.sql(f'SELECT jogos FROM equipes WHERE equipe = \"{team}\"').collect()[0][0]\n",
    "    if games == 0:\n",
    "        return None\n",
    "    wins = spark.sql(f'SELECT vitorias FROM equipes WHERE equipe = \"{team}\"').collect()[0][0]\n",
    "    return wins/games\n",
    "\n",
    "def generalBO1WR(team):\n",
    "    games = spark.sql(f'SELECT jmd1 FROM equipes WHERE equipe = \"{team}\"').collect()[0][0]\n",
    "    if games == 0:\n",
    "        return None\n",
    "    wins = spark.sql(f'SELECT md1 FROM equipes WHERE equipe = \"{team}\"').collect()[0][0]\n",
    "    return wins/games\n",
    "\n",
    "def generalBO2WR(team):\n",
    "    games = spark.sql(f'SELECT jmd2 FROM equipes WHERE equipe = \"{team}\"').collect()[0][0]\n",
    "    if games == 0:\n",
    "        return None\n",
    "    wins = spark.sql(f'SELECT md2 FROM equipes WHERE equipe = \"{team}\"').collect()[0][0]\n",
    "    return wins/games\n",
    "\n",
    "def generalBO3WR(team):\n",
    "    games = spark.sql(f'SELECT jmd3 FROM equipes WHERE equipe = \"{team}\"').collect()[0][0]\n",
    "    if games == 0:\n",
    "        return None\n",
    "    wins = spark.sql(f'SELECT md3 FROM equipes WHERE equipe = \"{team}\"').collect()[0][0]\n",
    "    return wins/games\n",
    "\n",
    "def generalBO5WR(team):\n",
    "    games = spark.sql(f'SELECT jmd5 FROM equipes WHERE equipe = \"{team}\"').collect()[0][0]\n",
    "    if games == 0:\n",
    "        return None\n",
    "    wins = spark.sql(f'SELECT md5 FROM equipes WHERE equipe = \"{team}\"').collect()[0][0]\n",
    "    return wins/games\n",
    "\n",
    "def specificTeamToTeamWR(team1, team2):\n",
    "    df = spark.read.format(\"org.neo4j.spark.DataSource\")\\\n",
    "        .option(\"url\", \"bolt://neo4j:7687\")\\\n",
    "        .option(\"authentication.type\", \"none\")\\\n",
    "        .option(\"query\", f\"MATCH (n1:Team)-[r:play]->(n2:Team) WHERE n1.name = {team1} AND n2.name = {team2} RETURN r.winrate)\")\\\n",
    "        .load()\n",
    "    display(df)\n",
    "    df.show(truncate=False)\n",
    "\n",
    "def specificTeamToTeamMapWR(team1, team2, map):\n",
    "    df = spark.read.format(\"org.neo4j.spark.DataSource\")\\\n",
    "        .option(\"url\", \"bolt://neo4j:7687\")\\\n",
    "        .option(\"authentication.type\", \"none\")\\\n",
    "        .option(\"query\", f\"MATCH (n1:Team)-[r:play]->(n2:Team) WHERE n1.name = {team1} AND n2.name = {team2} RETURN r.{map}-winrate)\")\\\n",
    "        .load()\n",
    "    display(df)\n",
    "    df.show(truncate=False)\n",
    "\n",
    "def specificTeamToTeamBO1WR(team1, team2, map):\n",
    "    df = spark.read.format(\"org.neo4j.spark.DataSource\")\\\n",
    "        .option(\"url\", \"bolt://neo4j:7687\")\\\n",
    "        .option(\"authentication.type\", \"none\")\\\n",
    "        .option(\"query\", f\"MATCH (n1:Team)-[r:play]->(n2:Team) WHERE n1.name = {team1} AND n2.name = {team2} RETURN r.bo1winrate)\")\\\n",
    "        .load()\n",
    "    display(df)\n",
    "    df.show(truncate=False)\n",
    "\n",
    "def specificTeamToTeamBO2WR(team1, team2, map):\n",
    "    df = spark.read.format(\"org.neo4j.spark.DataSource\")\\\n",
    "        .option(\"url\", \"bolt://neo4j:7687\")\\\n",
    "        .option(\"authentication.type\", \"none\")\\\n",
    "        .option(\"query\", f\"MATCH (n1:Team)-[r:play]->(n2:Team) WHERE n1.name = {team1} AND n2.name = {team2} RETURN r.bo2winrate)\")\\\n",
    "        .load()\n",
    "    display(df)\n",
    "    df.show(truncate=False)\n",
    "\n",
    "def specificTeamToTeamBO3WR(team1, team2, map):\n",
    "    df = spark.read.format(\"org.neo4j.spark.DataSource\")\\\n",
    "        .option(\"url\", \"bolt://neo4j:7687\")\\\n",
    "        .option(\"authentication.type\", \"none\")\\\n",
    "        .option(\"query\", f\"MATCH (n1:Team)-[r:play]->(n2:Team) WHERE n1.name = {team1} AND n2.name = {team2} RETURN r.bo3winrate)\")\\\n",
    "        .load()\n",
    "    display(df)\n",
    "    df.show(truncate=False)\n",
    "\n",
    "def specificTeamToTeamBO5WR(team1, team2, map):\n",
    "    df = spark.read.format(\"org.neo4j.spark.DataSource\")\\\n",
    "        .option(\"url\", \"bolt://neo4j:7687\")\\\n",
    "        .option(\"authentication.type\", \"none\")\\\n",
    "        .option(\"query\", f\"MATCH (n1:Team)-[r:play]->(n2:Team) WHERE n1.name = {team1} AND n2.name = {team2} RETURN r.bo5winrate)\")\\\n",
    "        .load()\n",
    "    display(df)\n",
    "    df.show(truncate=False)\n",
    "\n",
    "def predict(team1 = \"\", side1 = \"\", team2 = \"\", side2 = \"\", map = \"\"):\n",
    "    pass\n",
    "    # Decide what functions to call based on the existence of the arguments\n",
    "# TODO - Define functions that will interpret the match input and call multiple queries to fetch the win rates\n",
    "# TODO - Define the algorithm that takes the win rates and outputs final prediction\n",
    "# TODO - Define an interface for the user to call the interpreter function"
   ]
  },
  {
   "cell_type": "code",
   "execution_count": null,
   "metadata": {},
   "outputs": [],
   "source": [
    "equipes.show()\n",
    "print(generalMapSideWR(\"100 Thieves\", \"Mirage\", \"CT\"))"
   ]
  },
  {
   "cell_type": "markdown",
   "metadata": {},
   "source": [
    "# Bonus Queries\n",
    "This section is used to call other queries not linked to result prediction like objective queries or player statistics."
   ]
  },
  {
   "cell_type": "code",
   "execution_count": null,
   "metadata": {},
   "outputs": [],
   "source": [
    "# low priority TODO \n",
    "# Define functions to execute objective queries in Neo4j\n",
    "# Define functions to execute generic statistics queries in Apache Kudu\n",
    "# Define interface to call above functions"
   ]
  }
 ],
 "metadata": {
  "kernelspec": {
   "display_name": "Python 3 (ipykernel)",
   "language": "python",
   "name": "python3"
  },
  "language_info": {
   "codemirror_mode": {
    "name": "ipython",
    "version": 3
   },
   "file_extension": ".py",
   "mimetype": "text/x-python",
   "name": "python",
   "nbconvert_exporter": "python",
   "pygments_lexer": "ipython3",
   "version": "3.11.4"
  }
 },
 "nbformat": 4,
 "nbformat_minor": 4
}
